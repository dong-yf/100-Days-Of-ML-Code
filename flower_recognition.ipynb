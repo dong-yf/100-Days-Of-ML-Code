{
  "nbformat": 4,
  "nbformat_minor": 0,
  "metadata": {
    "colab": {
      "name": "flower_recognition.ipynb",
      "provenance": [],
      "collapsed_sections": [],
      "include_colab_link": true
    },
    "kernelspec": {
      "display_name": "Python 3",
      "language": "python",
      "name": "python3"
    },
    "language_info": {
      "codemirror_mode": {
        "name": "ipython",
        "version": 3
      },
      "file_extension": ".py",
      "mimetype": "text/x-python",
      "name": "python",
      "nbconvert_exporter": "python",
      "pygments_lexer": "ipython3",
      "version": "3.7.4"
    },
    "accelerator": "GPU"
  },
  "cells": [
    {
      "cell_type": "markdown",
      "metadata": {
        "id": "view-in-github",
        "colab_type": "text"
      },
      "source": [
        "<a href=\"https://colab.research.google.com/github/dong-yf/100-Days-Of-ML-Code/blob/master/flower_recognition.ipynb\" target=\"_parent\"><img src=\"https://colab.research.google.com/assets/colab-badge.svg\" alt=\"Open In Colab\"/></a>"
      ]
    },
    {
      "cell_type": "code",
      "metadata": {
        "id": "hFpS1SMMG-Sv",
        "colab": {
          "base_uri": "https://localhost:8080/"
        },
        "outputId": "de0ec5cd-4e12-4a84-ea22-1bf0ac9597fc"
      },
      "source": [
        "from google.colab import drive\n",
        "drive.mount('/content/gdrive', force_remount=True)"
      ],
      "execution_count": 1,
      "outputs": [
        {
          "output_type": "stream",
          "text": [
            "Mounted at /content/gdrive\n"
          ],
          "name": "stdout"
        }
      ]
    },
    {
      "cell_type": "code",
      "metadata": {
        "id": "e0eT6NcD4qOd",
        "colab": {
          "base_uri": "https://localhost:8080/"
        },
        "outputId": "3513c4aa-6889-4f25-d64e-1be377468c99"
      },
      "source": [
        "import numpy as np\n",
        "import matplotlib.pyplot as plt \n",
        "import os\n",
        "import cv2\n",
        "from PIL import Image\n",
        "import torch\n",
        "import matplotlib.image as mpimg\n",
        "import torch.nn as nn\n",
        "import torchvision.models as models\n",
        "import torch.nn.functional as F\n",
        "import torch.optim as optim\n",
        "import torchvision.transforms as transforms\n",
        "from torch.utils.data import Dataset, DataLoader\n",
        "from torch.autograd import Variable\n",
        "device = torch.device(\"cuda\" if torch.cuda.is_available() else \"cpu\")\n",
        "print(torch.cuda.is_available())"
      ],
      "execution_count": 2,
      "outputs": [
        {
          "output_type": "stream",
          "text": [
            "True\n"
          ],
          "name": "stdout"
        }
      ]
    },
    {
      "cell_type": "code",
      "metadata": {
        "id": "vE58GQUF--y9"
      },
      "source": [
        "os.chdir(\"/content/gdrive/My Drive/Colab Notebooks\")"
      ],
      "execution_count": 3,
      "outputs": []
    },
    {
      "cell_type": "code",
      "metadata": {
        "id": "eU4mgyFo4qOh"
      },
      "source": [
        "#parameters\n",
        "BATCH_SIZE = 32"
      ],
      "execution_count": 4,
      "outputs": []
    },
    {
      "cell_type": "code",
      "metadata": {
        "id": "v5G0VjoS4qOi"
      },
      "source": [
        "train_transform = transforms.Compose([\n",
        "    transforms.ToTensor(),\n",
        "    transforms.Normalize([0.5,0.5,0.5], [0.5, 0.5, 0.5])\n",
        "])\n",
        "test_transform = transforms.Compose([\n",
        "    transforms.ToTensor(),\n",
        "    transforms.Normalize([0.5,0.5,0.5], [0.5, 0.5, 0.5])\n",
        "])"
      ],
      "execution_count": 23,
      "outputs": []
    },
    {
      "cell_type": "code",
      "metadata": {
        "id": "VPpJan8-4qOj"
      },
      "source": [
        "class myDataset(Dataset):\n",
        "    \n",
        "    def __init__(self, image, label, transform):\n",
        "        self.image = image\n",
        "        self.label = label\n",
        "        self.transform = transform\n",
        "    \n",
        "    def __len__(self):\n",
        "        return len(self.image)\n",
        "    \n",
        "    def __getitem__(self, index):\n",
        "        image, label = self.image[index], int(self.label[index])\n",
        "        image = Image.fromarray(np.core.uint8(image)).convert('RGB')\n",
        "        if self.transform is not None:\n",
        "            image = self.transform(image)\n",
        "        return image, label"
      ],
      "execution_count": 24,
      "outputs": []
    },
    {
      "cell_type": "code",
      "metadata": {
        "colab": {
          "base_uri": "https://localhost:8080/",
          "height": 413
        },
        "id": "FTjtn_zk4qOj",
        "outputId": "25e6890f-9162-47d6-a367-fb67cd2010ba"
      },
      "source": [
        "data_path = 'data/train/'\n",
        "img_names = os.listdir(data_path)\n",
        "print(os.listdir('data/'))\n",
        "x_train = []\n",
        "y_train = []\n",
        "for img_name in img_names:\n",
        "    img = plt.imread(data_path+img_name)\n",
        "    x_train.append(img)\n",
        "    y_train.append(int(img_name[0]))\n",
        "x_train = np.array(x_train)\n",
        "y_train = np.array(y_train)"
      ],
      "execution_count": 25,
      "outputs": [
        {
          "output_type": "stream",
          "text": [
            "['train', 'test', 'train_X (1).npy', 'train.npz', 'train_data', 'train_X.npy']\n"
          ],
          "name": "stdout"
        },
        {
          "output_type": "error",
          "ename": "KeyboardInterrupt",
          "evalue": "ignored",
          "traceback": [
            "\u001b[0;31m---------------------------------------------------------------------------\u001b[0m",
            "\u001b[0;31mKeyboardInterrupt\u001b[0m                         Traceback (most recent call last)",
            "\u001b[0;32m<ipython-input-25-49c5bcc4416f>\u001b[0m in \u001b[0;36m<module>\u001b[0;34m()\u001b[0m\n\u001b[1;32m      5\u001b[0m \u001b[0my_train\u001b[0m \u001b[0;34m=\u001b[0m \u001b[0;34m[\u001b[0m\u001b[0;34m]\u001b[0m\u001b[0;34m\u001b[0m\u001b[0;34m\u001b[0m\u001b[0m\n\u001b[1;32m      6\u001b[0m \u001b[0;32mfor\u001b[0m \u001b[0mimg_name\u001b[0m \u001b[0;32min\u001b[0m \u001b[0mimg_names\u001b[0m\u001b[0;34m:\u001b[0m\u001b[0;34m\u001b[0m\u001b[0;34m\u001b[0m\u001b[0m\n\u001b[0;32m----> 7\u001b[0;31m     \u001b[0mimg\u001b[0m \u001b[0;34m=\u001b[0m \u001b[0mplt\u001b[0m\u001b[0;34m.\u001b[0m\u001b[0mimread\u001b[0m\u001b[0;34m(\u001b[0m\u001b[0mdata_path\u001b[0m\u001b[0;34m+\u001b[0m\u001b[0mimg_name\u001b[0m\u001b[0;34m)\u001b[0m\u001b[0;34m\u001b[0m\u001b[0;34m\u001b[0m\u001b[0m\n\u001b[0m\u001b[1;32m      8\u001b[0m     \u001b[0mx_train\u001b[0m\u001b[0;34m.\u001b[0m\u001b[0mappend\u001b[0m\u001b[0;34m(\u001b[0m\u001b[0mimg\u001b[0m\u001b[0;34m)\u001b[0m\u001b[0;34m\u001b[0m\u001b[0;34m\u001b[0m\u001b[0m\n\u001b[1;32m      9\u001b[0m     \u001b[0my_train\u001b[0m\u001b[0;34m.\u001b[0m\u001b[0mappend\u001b[0m\u001b[0;34m(\u001b[0m\u001b[0mint\u001b[0m\u001b[0;34m(\u001b[0m\u001b[0mimg_name\u001b[0m\u001b[0;34m[\u001b[0m\u001b[0;36m0\u001b[0m\u001b[0;34m]\u001b[0m\u001b[0;34m)\u001b[0m\u001b[0;34m)\u001b[0m\u001b[0;34m\u001b[0m\u001b[0;34m\u001b[0m\u001b[0m\n",
            "\u001b[0;32m/usr/local/lib/python3.7/dist-packages/matplotlib/pyplot.py\u001b[0m in \u001b[0;36mimread\u001b[0;34m(fname, format)\u001b[0m\n\u001b[1;32m   2059\u001b[0m \u001b[0;34m@\u001b[0m\u001b[0mdocstring\u001b[0m\u001b[0;34m.\u001b[0m\u001b[0mcopy\u001b[0m\u001b[0;34m(\u001b[0m\u001b[0mmatplotlib\u001b[0m\u001b[0;34m.\u001b[0m\u001b[0mimage\u001b[0m\u001b[0;34m.\u001b[0m\u001b[0mimread\u001b[0m\u001b[0;34m)\u001b[0m\u001b[0;34m\u001b[0m\u001b[0;34m\u001b[0m\u001b[0m\n\u001b[1;32m   2060\u001b[0m \u001b[0;32mdef\u001b[0m \u001b[0mimread\u001b[0m\u001b[0;34m(\u001b[0m\u001b[0mfname\u001b[0m\u001b[0;34m,\u001b[0m \u001b[0mformat\u001b[0m\u001b[0;34m=\u001b[0m\u001b[0;32mNone\u001b[0m\u001b[0;34m)\u001b[0m\u001b[0;34m:\u001b[0m\u001b[0;34m\u001b[0m\u001b[0;34m\u001b[0m\u001b[0m\n\u001b[0;32m-> 2061\u001b[0;31m     \u001b[0;32mreturn\u001b[0m \u001b[0mmatplotlib\u001b[0m\u001b[0;34m.\u001b[0m\u001b[0mimage\u001b[0m\u001b[0;34m.\u001b[0m\u001b[0mimread\u001b[0m\u001b[0;34m(\u001b[0m\u001b[0mfname\u001b[0m\u001b[0;34m,\u001b[0m \u001b[0mformat\u001b[0m\u001b[0;34m)\u001b[0m\u001b[0;34m\u001b[0m\u001b[0;34m\u001b[0m\u001b[0m\n\u001b[0m\u001b[1;32m   2062\u001b[0m \u001b[0;34m\u001b[0m\u001b[0m\n\u001b[1;32m   2063\u001b[0m \u001b[0;34m\u001b[0m\u001b[0m\n",
            "\u001b[0;32m/usr/local/lib/python3.7/dist-packages/matplotlib/image.py\u001b[0m in \u001b[0;36mimread\u001b[0;34m(fname, format)\u001b[0m\n\u001b[1;32m   1462\u001b[0m             raise ValueError('Only know how to handle PNG; with Pillow '\n\u001b[1;32m   1463\u001b[0m                              'installed, Matplotlib can handle more images')\n\u001b[0;32m-> 1464\u001b[0;31m         \u001b[0;32mwith\u001b[0m \u001b[0mImage\u001b[0m\u001b[0;34m.\u001b[0m\u001b[0mopen\u001b[0m\u001b[0;34m(\u001b[0m\u001b[0mfname\u001b[0m\u001b[0;34m)\u001b[0m \u001b[0;32mas\u001b[0m \u001b[0mimage\u001b[0m\u001b[0;34m:\u001b[0m\u001b[0;34m\u001b[0m\u001b[0;34m\u001b[0m\u001b[0m\n\u001b[0m\u001b[1;32m   1465\u001b[0m             \u001b[0;32mreturn\u001b[0m \u001b[0mpil_to_array\u001b[0m\u001b[0;34m(\u001b[0m\u001b[0mimage\u001b[0m\u001b[0;34m)\u001b[0m\u001b[0;34m\u001b[0m\u001b[0;34m\u001b[0m\u001b[0m\n\u001b[1;32m   1466\u001b[0m     \u001b[0;32mfrom\u001b[0m \u001b[0mmatplotlib\u001b[0m \u001b[0;32mimport\u001b[0m \u001b[0m_png\u001b[0m\u001b[0;34m\u001b[0m\u001b[0;34m\u001b[0m\u001b[0m\n",
            "\u001b[0;32m/usr/local/lib/python3.7/dist-packages/PIL/Image.py\u001b[0m in \u001b[0;36mopen\u001b[0;34m(fp, mode)\u001b[0m\n\u001b[1;32m   2850\u001b[0m         \u001b[0mexclusive_fp\u001b[0m \u001b[0;34m=\u001b[0m \u001b[0;32mTrue\u001b[0m\u001b[0;34m\u001b[0m\u001b[0;34m\u001b[0m\u001b[0m\n\u001b[1;32m   2851\u001b[0m \u001b[0;34m\u001b[0m\u001b[0m\n\u001b[0;32m-> 2852\u001b[0;31m     \u001b[0mprefix\u001b[0m \u001b[0;34m=\u001b[0m \u001b[0mfp\u001b[0m\u001b[0;34m.\u001b[0m\u001b[0mread\u001b[0m\u001b[0;34m(\u001b[0m\u001b[0;36m16\u001b[0m\u001b[0;34m)\u001b[0m\u001b[0;34m\u001b[0m\u001b[0;34m\u001b[0m\u001b[0m\n\u001b[0m\u001b[1;32m   2853\u001b[0m \u001b[0;34m\u001b[0m\u001b[0m\n\u001b[1;32m   2854\u001b[0m     \u001b[0mpreinit\u001b[0m\u001b[0;34m(\u001b[0m\u001b[0;34m)\u001b[0m\u001b[0;34m\u001b[0m\u001b[0;34m\u001b[0m\u001b[0m\n",
            "\u001b[0;31mKeyboardInterrupt\u001b[0m: "
          ]
        }
      ]
    },
    {
      "cell_type": "code",
      "metadata": {
        "id": "M_MkVRpOkptZ"
      },
      "source": [
        "data = np.load('data/train.npz')\n",
        "x_train, y_train = data['dataX'], data['dataY']"
      ],
      "execution_count": 26,
      "outputs": []
    },
    {
      "cell_type": "code",
      "metadata": {
        "id": "vs8tmhZZlhSw"
      },
      "source": [
        "test_data_path = 'data/test/'\n",
        "test_img_names = os.listdir(test_data_path)\n",
        "x_test = []\n",
        "y_test = []\n",
        "for test_img_name in test_img_names:\n",
        "    img = plt.imread(test_data_path+test_img_name)\n",
        "    x_test.append(img)\n",
        "    y_test.append(1)\n",
        "x_test = np.array(x_test)\n",
        "y_test = np.array(y_test)"
      ],
      "execution_count": 27,
      "outputs": []
    },
    {
      "cell_type": "code",
      "metadata": {
        "id": "SGorsTcS4qOk"
      },
      "source": [
        "x_train = myDataset(x_train, y_train, train_transform)\n",
        "x_test = myDataset(x_test, y_test, test_transform)"
      ],
      "execution_count": 28,
      "outputs": []
    },
    {
      "cell_type": "code",
      "metadata": {
        "id": "CGj-sboE4qOk"
      },
      "source": [
        "train_loader = DataLoader(dataset=x_train,batch_size=BATCH_SIZE,shuffle=True)\n",
        "test_loader = DataLoader(dataset=x_test,batch_size=BATCH_SIZE,shuffle=False)"
      ],
      "execution_count": 29,
      "outputs": []
    },
    {
      "cell_type": "code",
      "metadata": {
        "id": "9Nrc24A94qOl"
      },
      "source": [
        "model = models.resnet50(pretrained=False).cuda()\n",
        "loss = nn.CrossEntropyLoss() \n",
        "optimizer = optim.SGD(model.parameters(),lr = 0.1)\n",
        "num_epochs = 30"
      ],
      "execution_count": 34,
      "outputs": []
    },
    {
      "cell_type": "code",
      "metadata": {
        "colab": {
          "base_uri": "https://localhost:8080/"
        },
        "id": "SBD6mH-04qOl",
        "outputId": "d3e3037c-f3da-4dcf-8a94-f85bef307955"
      },
      "source": [
        "num_epochs = 60\n",
        "losses = [] \n",
        "acces = []\n",
        "eval_losses = []\n",
        "eval_acces = []\n",
        "\n",
        "for echo in range(num_epochs):\n",
        "    train_loss = 0   #定义训练损失\n",
        "    train_acc = 0    #定义训练准确度\n",
        "    model.train()    #将网络转化为训练模式\n",
        "    for i,(X,label) in enumerate(train_loader):     #使用枚举函数遍历train_loader\n",
        "        X = Variable(X).cuda()      #包装tensor用于自动求梯度\n",
        "        label = Variable(label).cuda()\n",
        "        out = model(X)            #正向传播\n",
        "        lossvalue = loss(out,label)         #求损失值\n",
        "        optimizer.zero_grad()       #优化器梯度归零\n",
        "        lossvalue.backward()    #反向转播，刷新梯度值\n",
        "        optimizer.step()        #优化器运行一步，注意optimizer搜集的是model的参数\n",
        "        \n",
        "        #计算损失\n",
        "        train_loss += float(lossvalue)      \n",
        "        #计算精确度\n",
        "        _,pred = out.max(1)\n",
        "        num_correct = (pred == label).sum()\n",
        "        acc = int(num_correct) / X.shape[0]\n",
        "        train_acc += acc\n",
        "    \n",
        "    losses.append(train_loss / len(train_loader))\n",
        "    acces.append(train_acc / len(train_loader))\n",
        "    print(\"echo:\"+' ' +str(echo))\n",
        "    print(\"lose:\" + ' ' + str(train_loss / len(train_loader)))\n",
        "    print(\"accuracy:\" + ' '+str(train_acc / len(train_loader)))"
      ],
      "execution_count": null,
      "outputs": [
        {
          "output_type": "stream",
          "text": [
            "/usr/local/lib/python3.7/dist-packages/torch/nn/functional.py:718: UserWarning: Named tensors and all their associated APIs are an experimental feature and subject to change. Please do not use them for anything important until they are released as stable. (Triggered internally at  /pytorch/c10/core/TensorImpl.h:1156.)\n",
            "  return torch.max_pool2d(input, kernel_size, stride, padding, dilation, ceil_mode)\n"
          ],
          "name": "stderr"
        },
        {
          "output_type": "stream",
          "text": [
            "echo: 0\n",
            "lose: 2.431580784431113\n",
            "accuracy: 0.3099531938325991\n",
            "echo: 1\n",
            "lose: 1.2396550449637065\n",
            "accuracy: 0.5412307268722467\n",
            "echo: 2\n",
            "lose: 1.0227613902039465\n",
            "accuracy: 0.6223843612334802\n",
            "echo: 3\n",
            "lose: 0.8814597961529761\n",
            "accuracy: 0.675454295154185\n",
            "echo: 4\n",
            "lose: 0.7819568790528217\n",
            "accuracy: 0.7100770925110133\n",
            "echo: 5\n",
            "lose: 0.7076222781699134\n",
            "accuracy: 0.7370594713656388\n",
            "echo: 6\n",
            "lose: 0.6305231982719005\n",
            "accuracy: 0.7642483480176211\n",
            "echo: 7\n",
            "lose: 0.5632990525157441\n",
            "accuracy: 0.790955396475771\n",
            "echo: 8\n",
            "lose: 0.5019343658165785\n",
            "accuracy: 0.8166299559471366\n",
            "echo: 9\n",
            "lose: 0.4422588095987946\n",
            "accuracy: 0.8419603524229075\n",
            "echo: 10\n",
            "lose: 0.37280657480466733\n",
            "accuracy: 0.8641244493392071\n",
            "echo: 11\n",
            "lose: 0.3323969430729156\n",
            "accuracy: 0.8793364537444934\n",
            "echo: 12\n",
            "lose: 0.28665060764137607\n",
            "accuracy: 0.895443281938326\n",
            "echo: 13\n",
            "lose: 0.2336279351493992\n",
            "accuracy: 0.915955396475771\n",
            "echo: 14\n",
            "lose: 0.20430392806012068\n",
            "accuracy: 0.9257296255506607\n",
            "echo: 15\n",
            "lose: 0.19483255205823657\n",
            "accuracy: 0.9321998898678414\n",
            "echo: 16\n",
            "lose: 0.14275040943175554\n",
            "accuracy: 0.9513353524229075\n",
            "echo: 17\n",
            "lose: 0.12334469221183612\n",
            "accuracy: 0.9567731277533039\n",
            "echo: 18\n",
            "lose: 0.09551743382592132\n",
            "accuracy: 0.967579845814978\n",
            "echo: 19\n",
            "lose: 0.09574357687089477\n",
            "accuracy: 0.9679240088105727\n",
            "echo: 20\n",
            "lose: 0.08764272532425821\n",
            "accuracy: 0.9702643171806168\n",
            "echo: 21\n",
            "lose: 0.08565236143572953\n",
            "accuracy: 0.9706084801762115\n",
            "echo: 22\n",
            "lose: 0.07914172421570556\n",
            "accuracy: 0.9727422907488987\n",
            "echo: 23\n",
            "lose: 0.06731579915324476\n",
            "accuracy: 0.9773540748898678\n",
            "echo: 24\n",
            "lose: 0.06440145526433134\n",
            "accuracy: 0.9765969162995595\n",
            "echo: 25\n",
            "lose: 0.03997542514270356\n",
            "accuracy: 0.9862334801762115\n",
            "echo: 26\n",
            "lose: 0.05591031168277236\n",
            "accuracy: 0.9810022026431718\n",
            "echo: 27\n",
            "lose: 0.042909501078395\n",
            "accuracy: 0.9859581497797357\n",
            "echo: 28\n",
            "lose: 0.07278352728959595\n",
            "accuracy: 0.9762527533039648\n",
            "echo: 29\n",
            "lose: 0.06928765636433884\n",
            "accuracy: 0.9773540748898678\n",
            "echo: 30\n",
            "lose: 0.035234214073078585\n",
            "accuracy: 0.9886426211453745\n",
            "echo: 31\n",
            "lose: 0.036851721493539345\n",
            "accuracy: 0.9871283039647577\n",
            "echo: 32\n",
            "lose: 0.0356366320041117\n",
            "accuracy: 0.9876101321585903\n",
            "echo: 33\n",
            "lose: 0.02654860248791884\n",
            "accuracy: 0.9905699339207048\n",
            "echo: 34\n",
            "lose: 0.029994981811303795\n",
            "accuracy: 0.990363436123348\n",
            "echo: 35\n",
            "lose: 0.040200170119120464\n",
            "accuracy: 0.9866464757709251\n",
            "echo: 36\n",
            "lose: 0.02731020138841938\n",
            "accuracy: 0.9913270925110133\n",
            "echo: 37\n",
            "lose: 0.037435391608644626\n",
            "accuracy: 0.9874724669603524\n",
            "echo: 38\n",
            "lose: 0.02496489826571713\n",
            "accuracy: 0.9909829295154186\n",
            "echo: 39\n",
            "lose: 0.016996845071467672\n",
            "accuracy: 0.9943557268722467\n",
            "echo: 40\n",
            "lose: 0.020021106527757595\n",
            "accuracy: 0.9945622246696035\n",
            "echo: 41\n",
            "lose: 0.017129526699112437\n",
            "accuracy: 0.9949752202643172\n",
            "echo: 42\n",
            "lose: 0.019006449509891752\n",
            "accuracy: 0.9934609030837004\n",
            "echo: 43\n",
            "lose: 0.0228917847654828\n",
            "accuracy: 0.9923595814977973\n",
            "echo: 44\n",
            "lose: 0.013417019132713006\n",
            "accuracy: 0.9958700440528634\n"
          ],
          "name": "stdout"
        }
      ]
    },
    {
      "cell_type": "code",
      "metadata": {
        "id": "qAHz3KM_4qOn"
      },
      "source": [
        ""
      ],
      "execution_count": null,
      "outputs": []
    }
  ]
}